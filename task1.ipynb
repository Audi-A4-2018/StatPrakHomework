{
 "cells": [
  {
   "cell_type": "markdown",
   "metadata": {},
   "source": [
    "**Imports**"
   ]
  },
  {
   "cell_type": "code",
   "execution_count": 90,
   "metadata": {},
   "outputs": [],
   "source": [
    "import math\n",
    "from collections import Counter"
   ]
  },
  {
   "cell_type": "markdown",
   "metadata": {},
   "source": [
    "**Problem 1**"
   ]
  },
  {
   "cell_type": "code",
   "execution_count": 91,
   "metadata": {},
   "outputs": [
    {
     "name": "stdout",
     "output_type": "stream",
     "text": [
      "(6, 18, 30, 42, 54, 66, 78, 90, 102)\n"
     ]
    }
   ],
   "source": [
    "print(tuple(i for i in range(int(math.sqrt(12345) + 1)) if i*i % 12 == 0 and not i*i % 8 == 0))"
   ]
  },
  {
   "cell_type": "markdown",
   "metadata": {},
   "source": [
    "**Problem 2**"
   ]
  },
  {
   "cell_type": "code",
   "execution_count": 92,
   "metadata": {},
   "outputs": [],
   "source": [
    "def rotate_matrix_by_90(matrix, keyword):\n",
    "    if keyword == \"left\":\n",
    "        return (lambda m: list(map(list, list(zip(*m))[::-1])))(matrix.copy())\n",
    "    elif keyword == \"right\":\n",
    "        return (lambda m: list(map(list, list(zip(*m[::-1])))))(matrix.copy())\n",
    "    else:\n",
    "        raise ValueError(\"String passed to this function is incorrect.\\nYou can pass only two keywords: 'left' or 'right'.\")"
   ]
  },
  {
   "cell_type": "markdown",
   "metadata": {},
   "source": [
    "**Problem 2 tests**"
   ]
  },
  {
   "cell_type": "code",
   "execution_count": 93,
   "metadata": {},
   "outputs": [
    {
     "name": "stdout",
     "output_type": "stream",
     "text": [
      "Left rotation:\n",
      "[[3, 6, 9], [2, 5, 8], [1, 4, 7]]\n",
      "Right rotation:\n",
      "[[7, 4, 1], [8, 5, 2], [9, 6, 3]]\n"
     ]
    }
   ],
   "source": [
    "print(\"Left rotation:\" , rotate_matrix_by_90([[1, 2, 3], [4, 5, 6], [7, 8, 9]], 'left' ), sep='\\n')\n",
    "print(\"Right rotation:\", rotate_matrix_by_90([[1, 2, 3], [4, 5, 6], [7, 8, 9]], 'right'), sep='\\n')"
   ]
  },
  {
   "cell_type": "markdown",
   "metadata": {},
   "source": [
    "**Problem 3**"
   ]
  },
  {
   "cell_type": "code",
   "execution_count": 94,
   "metadata": {},
   "outputs": [],
   "source": [
    "symbol_counter = lambda s: dict(Counter(s))"
   ]
  },
  {
   "cell_type": "markdown",
   "metadata": {},
   "source": [
    "**Problem 3 tests**"
   ]
  },
  {
   "cell_type": "code",
   "execution_count": 95,
   "metadata": {},
   "outputs": [
    {
     "name": "stdout",
     "output_type": "stream",
     "text": [
      "{'H': 1, 'e': 1, 'l': 3, 'o': 2, ',': 1, ' ': 1, 'w': 1, 'r': 1, 'd': 1, '!': 1}\n"
     ]
    }
   ],
   "source": [
    "print(symbol_counter(\"Hello, world!\"))"
   ]
  },
  {
   "cell_type": "markdown",
   "metadata": {},
   "source": [
    "**Problem 4**"
   ]
  },
  {
   "cell_type": "code",
   "execution_count": 96,
   "metadata": {},
   "outputs": [],
   "source": [
    "\"\"\"\n",
    "Custom type named Book consists of the next fields:\n",
    "    title  -> str,\n",
    "    author -> str,\n",
    "    year   -> int,\n",
    "    ISBN   -> str,\n",
    "    count  -> int \n",
    "\n",
    "Class Book provides:\n",
    "    1) Initialization method [raises a TypeError exception], \n",
    "    2) Equality test(checks all fields except count of copies),\n",
    "    3) set_count method(used for setting new count of this book) [raises TypeError exception or ValueError],\n",
    "    4) get_info method(used for getting information of this book in dictionary)\n",
    "\"\"\"\n",
    "class Book:\n",
    "    def __init__(self, title, author, year, ISBN, count):\n",
    "        if type(title) != str or type(author) != str or type(year) != int or type(ISBN) != str or type(count) != int:\n",
    "            raise TypeError(\"Invalid type\")\n",
    "\n",
    "        self.title  = title \n",
    "        self.author = author\n",
    "        self.year   = year  \n",
    "        self.ISBN   = ISBN  \n",
    "        self.count  = count \n",
    "\n",
    "\n",
    "    def __eq__(self, other):\n",
    "        return self.title == other.title and self.author == other.author and self.year == other.year and self.ISBN == other.ISBN\n",
    "    \n",
    "\n",
    "    def set_count(self, new_count): \n",
    "        if type(new_count) != int:\n",
    "            raise TypeError(\"Count must be an integer\")\n",
    "        if new_count < 0:\n",
    "            raise ValueError(\"New count of books can't be negative\")\n",
    "        self.count = new_count\n",
    "    \n",
    "\n",
    "    def get_info(self):\n",
    "        return {\n",
    "            \"Title\"  : self.title ,\n",
    "            \"Author\" : self.author,\n",
    "            \"Year\"   : self.year  ,\n",
    "            \"ISBN\"   : self.ISBN  ,\n",
    "            \"Count\"  : self.count\n",
    "        }\n",
    "    \n",
    "    \n",
    "\"\"\"\n",
    "Custom type named User consists of the next fields:\n",
    "    name                   -> str,\n",
    "    card_number            -> str,\n",
    "    list_of_borrowed_books -> list<Book>\n",
    "\n",
    "Class User provides:\n",
    "    1) Initialization method [raises a TypeError exception]\n",
    "    2) Equality check(checks all fields except list_of_borrowed_books)\n",
    "    3) borrow_book method (borrows one book) [raises a TypeError exception or ValueError exception]\n",
    "    4) return_book method (return any book count) [raises a TypeError exception or ValueError exception]\n",
    "    5) get_info method (used for getting information of this user in dictionary)\n",
    "\"\"\"\n",
    "class User:\n",
    "    def __init__(self, name, card_number, list_of_borrowed_books):\n",
    "        if type(name) != str or type(card_number) != str or type(list_of_borrowed_books) != list or any(type(x) != Book for x in list_of_borrowed_books):\n",
    "            raise TypeError(\"Invalid type\")\n",
    "        self.name                   = name\n",
    "        self.card_number            = card_number\n",
    "        self.list_of_borrowed_books = list(set(list_of_borrowed_books))\n",
    "\n",
    "\n",
    "    def __eq__(self, other):\n",
    "        return self.name == other.name and self.card_number == other.card_number\n",
    "\n",
    "\n",
    "    def borrow_book(self, book):\n",
    "        book.set_count(book.count - 1)\n",
    "        if book in self.list_of_borrowed_books:\n",
    "            this_book = self.list_of_borrowed_books[self.list_of_borrowed_books.index(book)]\n",
    "            this_book.set_count(this_book.count + 1)\n",
    "        else:\n",
    "            self.list_of_borrowed_books.append(Book(book.title, book.author, book.year, book.ISBN, 1))\n",
    "\n",
    "\n",
    "    def return_book(self, book, count):\n",
    "        if type(book) != Book:\n",
    "            raise TypeError(\"Book must be an instance of class Book\")\n",
    "        if type(count) != int:\n",
    "            raise TypeError(\"Count must be an int\")\n",
    "        if count <= 0:\n",
    "            raise ValueError(\"Count can't be negative or zero\")\n",
    "        if book in self.list_of_borrowed_books:\n",
    "            this_book = self.list_of_borrowed_books[self.list_of_borrowed_books.index(book)]\n",
    "            this_book.set_count(this_book.count - count)\n",
    "            if this_book.count == 0:\n",
    "                self.list_of_borrowed_books.pop(self.list_of_borrowed_books.index(this_book))\n",
    "        else:\n",
    "            raise ValueError(\"Book can't be found in user's list of borrowed books\")\n",
    "    \n",
    "\n",
    "    def get_info(self):\n",
    "        return {\n",
    "            \"Name\"          : self.name                         ,\n",
    "            \"Card number\"   : self.card_number                  ,\n",
    "            \"List of books\" : self.list_of_borrowed_books.copy()\n",
    "        }    \n",
    "    \n",
    "\n",
    "\n",
    "\"\"\"\"\n",
    "Custom type named Transaction consists of the next fields:\n",
    "    user                -> dict,\n",
    "    book                -> dict,\n",
    "    time_of_transaction -> str,\n",
    "    type_of_transaction -> str\n",
    "\n",
    "Class Transaction provides:\n",
    "    1) Initialization method [raises TypeError]\n",
    "    2) str method (return Transaction as str for pretty printing)\n",
    "\"\"\"\n",
    "class Transaction:\n",
    "    def __init__(self, user, book, type_of_transaction, time_of_transaction):\n",
    "        if type(user) != User or type(book) != Book or type(time_of_transaction) != str or type(type_of_transaction) != str:\n",
    "            raise TypeError(\"Invalid type\")\n",
    "        self.user                = user.get_info()\n",
    "        self.book                = book.get_info()\n",
    "        self.time_of_transaction = time_of_transaction\n",
    "        self.type_of_transaction = type_of_transaction\n",
    "    \n",
    "\n",
    "    def __str__(self):\n",
    "        return \"[\\n\" + '\\n'.join(\n",
    "            [\n",
    "                f'\\t\"User\" : [\\n\\t\\t\"Name\" : {self.user[\"Name\"]},\\n\\t\\t\"Card number\" : {self.user[\"Card number\"]}\\n\\t]',\n",
    "                f'\\t\"Book\" : [\\n\\t\\t\"Title\" : {self.book[\"Title\"]},\\n\\t\\t\"Author\" : {self.book[\"Author\"]},\\n\\t\\t\"Year\" : {self.book[\"Year\"]},\\n\\t\\t\"ISBN\" : {self.book[\"ISBN\"]},\\n\\t\\t\"Count\" : {self.book[\"Count\"]}\\n\\t]',\n",
    "                f'\\t\"Time\" : {self.time_of_transaction}',\n",
    "                f'\\t\"Type\" : {self.type_of_transaction}'\n",
    "            ]\n",
    "        ) + \"\\n]\"\n",
    "    \n",
    "\n",
    "\"\"\"\n",
    "Custom type named Library consists of the next fields:\n",
    "    list_of_books       -> list<Book>,\n",
    "    list_of_users       -> list<User>,\n",
    "    transaction_history -> list<Transaction>\n",
    "\n",
    "Class Library proivides:\n",
    "    1) Initialization method\n",
    "    2) Two methods for displaing transactions\n",
    "    3) Registration of new user and deletion of users\n",
    "    4) Adding and removing book\n",
    "    5) Methods for returning and borrowing books by users\n",
    "\"\"\"\n",
    "class Library:\n",
    "    def __init__(self):\n",
    "        self.list_of_books       = list()\n",
    "        self.list_of_users       = list()\n",
    "        self.transaction_history = list()\n",
    "    \n",
    "\n",
    "    def display_all_transaction(self):\n",
    "        print('\\n'.join(list(str(t) for t in self.transaction_history)))\n",
    "\n",
    "    \n",
    "    def display_last_transaction(self):\n",
    "        print(str(self.transaction_history[-1]))\n",
    "\n",
    "\n",
    "    def register_user(self, user):\n",
    "        if type(user) != User:\n",
    "            raise TypeError(\"Must be an instance of class User\")\n",
    "        if user not in self.list_of_users:\n",
    "            self.list_of_users.append(user)\n",
    "\n",
    "\n",
    "    def remove_user(self, user):\n",
    "        if type(user) != User:\n",
    "            raise TypeError(\"Must be an instance of class User\")\n",
    "        if user in self.list_of_users:\n",
    "            self.list_of_users.pop(self.list_of_users.index(user))\n",
    "        \n",
    "\n",
    "    def add_book(self, book):\n",
    "        if book in self.list_of_books:\n",
    "            this_book = self.list_of_books[self.list_of_books.index(book)]\n",
    "            this_book.set_count(this_book.count + book.count)\n",
    "        else:\n",
    "            self.list_of_books.append(book)\n",
    "    \n",
    "\n",
    "    def remove_book(self, book):\n",
    "        if book in self.list_of_books:\n",
    "            self.list_of_books.pop(self.list_of_books.index(book))\n",
    "    \n",
    "\n",
    "    def return_book(self, user, book, count, time):\n",
    "        if type(user) != User or type(book) != Book or type(count) != int or type(time) != str:\n",
    "            raise TypeError(\"invalid type\")\n",
    "        if user not in self.list_of_users:\n",
    "            self.register_user(user)\n",
    "        user.return_book(book, count)\n",
    "        self.add_book(Book(book.title, book.author, book.year, book.ISBN, book.count))\n",
    "        self.transaction_history.append(Transaction(user, book, \"Returning book\", time))\n",
    "\n",
    "\n",
    "    def borrow_book(self, user, book, time):\n",
    "        if type(user) != User or type(book) != Book or type(time) != str:\n",
    "            raise TypeError(\"invalid type\")\n",
    "        if user not in self.list_of_users:\n",
    "            self.register_user(user)\n",
    "        if book not in self.list_of_books:\n",
    "            raise ValueError(\"Book can't be found in book list\")\n",
    "        user.borrow_book(self.list_of_books[self.list_of_books.index(book)])\n",
    "        self.transaction_history.append(Transaction(user, self.list_of_books[self.list_of_books.index(book)], \"Borrowing book\", time))"
   ]
  },
  {
   "cell_type": "markdown",
   "metadata": {},
   "source": [
    "**Problem 4 tests**"
   ]
  },
  {
   "cell_type": "code",
   "execution_count": 97,
   "metadata": {},
   "outputs": [
    {
     "name": "stdout",
     "output_type": "stream",
     "text": [
      "[\n",
      "\t\"User\" : [\n",
      "\t\t\"Name\" : user1,\n",
      "\t\t\"Card number\" : 1\n",
      "\t]\n",
      "\t\"Book\" : [\n",
      "\t\t\"Title\" : title1,\n",
      "\t\t\"Author\" : author1,\n",
      "\t\t\"Year\" : 2003,\n",
      "\t\t\"ISBN\" : 11111111,\n",
      "\t\t\"Count\" : 11\n",
      "\t]\n",
      "\t\"Time\" : 19.02.2025\n",
      "\t\"Type\" : Borrowing book\n",
      "]\n",
      "[\n",
      "\t\"User\" : [\n",
      "\t\t\"Name\" : user2,\n",
      "\t\t\"Card number\" : 2\n",
      "\t]\n",
      "\t\"Book\" : [\n",
      "\t\t\"Title\" : title2,\n",
      "\t\t\"Author\" : author2,\n",
      "\t\t\"Year\" : 2004,\n",
      "\t\t\"ISBN\" : 22222222,\n",
      "\t\t\"Count\" : 20\n",
      "\t]\n",
      "\t\"Time\" : 20.02.2025\n",
      "\t\"Type\" : Borrowing book\n",
      "]\n",
      "[\n",
      "\t\"User\" : [\n",
      "\t\t\"Name\" : user1,\n",
      "\t\t\"Card number\" : 1\n",
      "\t]\n",
      "\t\"Book\" : [\n",
      "\t\t\"Title\" : title1,\n",
      "\t\t\"Author\" : author1,\n",
      "\t\t\"Year\" : 2003,\n",
      "\t\t\"ISBN\" : 11111111,\n",
      "\t\t\"Count\" : 22\n",
      "\t]\n",
      "\t\"Time\" : 21.02.2025\n",
      "\t\"Type\" : Returning book\n",
      "]\n"
     ]
    }
   ],
   "source": [
    "user1 = User(\"user1\", \"1\", [])\n",
    "user2 = User(\"user2\", \"2\", [])\n",
    "lib = Library()\n",
    "book1 = Book(\"title1\", \"author1\", 2003, \"11111111\", 12)\n",
    "book2 = Book(\"title2\", \"author2\", 2004, \"22222222\", 21)\n",
    "lib.add_book(book1)\n",
    "lib.add_book(book2)\n",
    "lib.borrow_book(user1, book1, \"19.02.2025\")\n",
    "lib.borrow_book(user2, book2, \"20.02.2025\")\n",
    "lib.return_book(user1, book1, 1, \"21.02.2025\")\n",
    "lib.display_all_transaction()\n"
   ]
  },
  {
   "cell_type": "markdown",
   "metadata": {},
   "source": [
    "**Problem 5**"
   ]
  },
  {
   "cell_type": "code",
   "execution_count": 98,
   "metadata": {},
   "outputs": [
    {
     "name": "stdout",
     "output_type": "stream",
     "text": [
      "[4, 2, 3]\n"
     ]
    }
   ],
   "source": [
    "a = [1, 2, 3]\n",
    "b = a\n",
    "a[0] = 4\n",
    "print(b)"
   ]
  },
  {
   "cell_type": "markdown",
   "metadata": {},
   "source": [
    "**Explanation**\n",
    "\n",
    "In this situation we making reference when writing b = a. And when we apply changes to a, we can see this changes in b. If we need copy of a, we can write b = a.copy() or b = list(a)\n"
   ]
  },
  {
   "cell_type": "markdown",
   "metadata": {},
   "source": [
    "**Problem 6**"
   ]
  },
  {
   "cell_type": "code",
   "execution_count": 99,
   "metadata": {},
   "outputs": [
    {
     "name": "stdout",
     "output_type": "stream",
     "text": [
      "1.6448340718480599\n",
      "1.6448340718480599\n"
     ]
    }
   ],
   "source": [
    "sum_a = sum(1 / i**2 for i in range(1, 10001))\n",
    "sum_b = sum(1 / i**2 for i in range(10000, 0, -1))\n",
    "\n",
    "print(sum_a)\n",
    "print(sum_b)"
   ]
  },
  {
   "cell_type": "markdown",
   "metadata": {},
   "source": [
    "**Explanation**\n",
    "\n",
    "The problem of the difference in accuracy is related to rounding numbers with a large number of decimal places. \n",
    "The computer gives us numbers with limited accuracy. In the first method, we add small numbers to large ones, which can lead to the loss of small numbers due to rounding. \n",
    "It would be logical to start with small numbers and end with large ones, so as not to lose accuracy."
   ]
  }
 ],
 "metadata": {
  "kernelspec": {
   "display_name": "Python 3",
   "language": "python",
   "name": "python3"
  },
  "language_info": {
   "codemirror_mode": {
    "name": "ipython",
    "version": 3
   },
   "file_extension": ".py",
   "mimetype": "text/x-python",
   "name": "python",
   "nbconvert_exporter": "python",
   "pygments_lexer": "ipython3",
   "version": "3.12.8"
  }
 },
 "nbformat": 4,
 "nbformat_minor": 2
}
